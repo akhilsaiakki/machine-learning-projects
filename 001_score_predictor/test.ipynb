model.predict([[9.2]])
